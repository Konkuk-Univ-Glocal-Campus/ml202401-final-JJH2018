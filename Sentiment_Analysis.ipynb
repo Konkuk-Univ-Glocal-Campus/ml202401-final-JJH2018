{
 "cells": [
  {
   "cell_type": "markdown",
   "metadata": {},
   "source": [
    "#### ! 선행 설치 모듈 및 라이브러리"
   ]
  },
  {
   "cell_type": "code",
   "execution_count": 1,
   "metadata": {},
   "outputs": [
    {
     "name": "stdout",
     "output_type": "stream",
     "text": [
      "Requirement already satisfied: seaborn in c:\\users\\정재현\\appdata\\local\\programs\\python\\python312\\lib\\site-packages (0.13.2)\n",
      "Requirement already satisfied: numpy!=1.24.0,>=1.20 in c:\\users\\정재현\\appdata\\local\\programs\\python\\python312\\lib\\site-packages (from seaborn) (1.26.4)\n",
      "Requirement already satisfied: pandas>=1.2 in c:\\users\\정재현\\appdata\\local\\programs\\python\\python312\\lib\\site-packages (from seaborn) (2.1.4)\n",
      "Requirement already satisfied: matplotlib!=3.6.1,>=3.4 in c:\\users\\정재현\\appdata\\local\\programs\\python\\python312\\lib\\site-packages (from seaborn) (3.8.3)\n",
      "Requirement already satisfied: contourpy>=1.0.1 in c:\\users\\정재현\\appdata\\local\\programs\\python\\python312\\lib\\site-packages (from matplotlib!=3.6.1,>=3.4->seaborn) (1.2.1)\n",
      "Requirement already satisfied: cycler>=0.10 in c:\\users\\정재현\\appdata\\local\\programs\\python\\python312\\lib\\site-packages (from matplotlib!=3.6.1,>=3.4->seaborn) (0.12.1)\n",
      "Requirement already satisfied: fonttools>=4.22.0 in c:\\users\\정재현\\appdata\\local\\programs\\python\\python312\\lib\\site-packages (from matplotlib!=3.6.1,>=3.4->seaborn) (4.50.0)\n",
      "Requirement already satisfied: kiwisolver>=1.3.1 in c:\\users\\정재현\\appdata\\local\\programs\\python\\python312\\lib\\site-packages (from matplotlib!=3.6.1,>=3.4->seaborn) (1.4.5)\n",
      "Requirement already satisfied: packaging>=20.0 in c:\\users\\정재현\\appdata\\local\\programs\\python\\python312\\lib\\site-packages (from matplotlib!=3.6.1,>=3.4->seaborn) (23.2)\n",
      "Requirement already satisfied: pillow>=8 in c:\\users\\정재현\\appdata\\local\\programs\\python\\python312\\lib\\site-packages (from matplotlib!=3.6.1,>=3.4->seaborn) (10.3.0)\n",
      "Requirement already satisfied: pyparsing>=2.3.1 in c:\\users\\정재현\\appdata\\local\\programs\\python\\python312\\lib\\site-packages (from matplotlib!=3.6.1,>=3.4->seaborn) (3.1.2)\n",
      "Requirement already satisfied: python-dateutil>=2.7 in c:\\users\\정재현\\appdata\\local\\programs\\python\\python312\\lib\\site-packages (from matplotlib!=3.6.1,>=3.4->seaborn) (2.8.2)\n",
      "Requirement already satisfied: pytz>=2020.1 in c:\\users\\정재현\\appdata\\local\\programs\\python\\python312\\lib\\site-packages (from pandas>=1.2->seaborn) (2023.3.post1)\n",
      "Requirement already satisfied: tzdata>=2022.1 in c:\\users\\정재현\\appdata\\local\\programs\\python\\python312\\lib\\site-packages (from pandas>=1.2->seaborn) (2023.4)\n",
      "Requirement already satisfied: six>=1.5 in c:\\users\\정재현\\appdata\\local\\programs\\python\\python312\\lib\\site-packages (from python-dateutil>=2.7->matplotlib!=3.6.1,>=3.4->seaborn) (1.16.0)\n",
      "Note: you may need to restart the kernel to use updated packages.\n",
      "Requirement already satisfied: nltk in c:\\users\\정재현\\appdata\\local\\programs\\python\\python312\\lib\\site-packages (3.8.1)\n",
      "Requirement already satisfied: click in c:\\users\\정재현\\appdata\\local\\programs\\python\\python312\\lib\\site-packages (from nltk) (8.1.7)\n",
      "Requirement already satisfied: joblib in c:\\users\\정재현\\appdata\\local\\programs\\python\\python312\\lib\\site-packages (from nltk) (1.4.0)\n",
      "Requirement already satisfied: regex>=2021.8.3 in c:\\users\\정재현\\appdata\\local\\programs\\python\\python312\\lib\\site-packages (from nltk) (2024.5.15)\n",
      "Requirement already satisfied: tqdm in c:\\users\\정재현\\appdata\\local\\programs\\python\\python312\\lib\\site-packages (from nltk) (4.66.2)\n",
      "Requirement already satisfied: colorama in c:\\users\\정재현\\appdata\\local\\programs\\python\\python312\\lib\\site-packages (from click->nltk) (0.4.6)\n",
      "Note: you may need to restart the kernel to use updated packages.\n",
      "Requirement already satisfied: googletrans==4.0.0-rc1 in c:\\users\\정재현\\appdata\\local\\programs\\python\\python312\\lib\\site-packages (4.0.0rc1)\n",
      "Requirement already satisfied: httpx==0.13.3 in c:\\users\\정재현\\appdata\\local\\programs\\python\\python312\\lib\\site-packages (from googletrans==4.0.0-rc1) (0.13.3)\n",
      "Requirement already satisfied: certifi in c:\\users\\정재현\\appdata\\local\\programs\\python\\python312\\lib\\site-packages (from httpx==0.13.3->googletrans==4.0.0-rc1) (2024.2.2)\n",
      "Requirement already satisfied: hstspreload in c:\\users\\정재현\\appdata\\local\\programs\\python\\python312\\lib\\site-packages (from httpx==0.13.3->googletrans==4.0.0-rc1) (2024.6.1)\n",
      "Requirement already satisfied: sniffio in c:\\users\\정재현\\appdata\\local\\programs\\python\\python312\\lib\\site-packages (from httpx==0.13.3->googletrans==4.0.0-rc1) (1.3.1)\n",
      "Requirement already satisfied: chardet==3.* in c:\\users\\정재현\\appdata\\local\\programs\\python\\python312\\lib\\site-packages (from httpx==0.13.3->googletrans==4.0.0-rc1) (3.0.4)\n",
      "Requirement already satisfied: idna==2.* in c:\\users\\정재현\\appdata\\local\\programs\\python\\python312\\lib\\site-packages (from httpx==0.13.3->googletrans==4.0.0-rc1) (2.10)\n",
      "Requirement already satisfied: rfc3986<2,>=1.3 in c:\\users\\정재현\\appdata\\local\\programs\\python\\python312\\lib\\site-packages (from httpx==0.13.3->googletrans==4.0.0-rc1) (1.5.0)\n",
      "Requirement already satisfied: httpcore==0.9.* in c:\\users\\정재현\\appdata\\local\\programs\\python\\python312\\lib\\site-packages (from httpx==0.13.3->googletrans==4.0.0-rc1) (0.9.1)\n",
      "Requirement already satisfied: h11<0.10,>=0.8 in c:\\users\\정재현\\appdata\\local\\programs\\python\\python312\\lib\\site-packages (from httpcore==0.9.*->httpx==0.13.3->googletrans==4.0.0-rc1) (0.9.0)\n",
      "Requirement already satisfied: h2==3.* in c:\\users\\정재현\\appdata\\local\\programs\\python\\python312\\lib\\site-packages (from httpcore==0.9.*->httpx==0.13.3->googletrans==4.0.0-rc1) (3.2.0)\n",
      "Requirement already satisfied: hyperframe<6,>=5.2.0 in c:\\users\\정재현\\appdata\\local\\programs\\python\\python312\\lib\\site-packages (from h2==3.*->httpcore==0.9.*->httpx==0.13.3->googletrans==4.0.0-rc1) (5.2.0)\n",
      "Requirement already satisfied: hpack<4,>=3.0 in c:\\users\\정재현\\appdata\\local\\programs\\python\\python312\\lib\\site-packages (from h2==3.*->httpcore==0.9.*->httpx==0.13.3->googletrans==4.0.0-rc1) (3.0.0)\n",
      "Note: you may need to restart the kernel to use updated packages.\n"
     ]
    }
   ],
   "source": [
    "%pip install seaborn\n",
    "%pip install nltk\n",
    "%pip install googletrans==4.0.0-rc1"
   ]
  },
  {
   "cell_type": "code",
   "execution_count": 2,
   "metadata": {},
   "outputs": [
    {
     "name": "stderr",
     "output_type": "stream",
     "text": [
      "[nltk_data] Downloading package vader_lexicon to\n",
      "[nltk_data]     C:\\Users\\정재현\\AppData\\Roaming\\nltk_data...\n",
      "[nltk_data]   Package vader_lexicon is already up-to-date!\n",
      "[nltk_data] Downloading package punkt to\n",
      "[nltk_data]     C:\\Users\\정재현\\AppData\\Roaming\\nltk_data...\n",
      "[nltk_data]   Package punkt is already up-to-date!\n",
      "[nltk_data] Downloading package stopwords to\n",
      "[nltk_data]     C:\\Users\\정재현\\AppData\\Roaming\\nltk_data...\n",
      "[nltk_data]   Package stopwords is already up-to-date!\n"
     ]
    },
    {
     "data": {
      "text/plain": [
       "True"
      ]
     },
     "execution_count": 2,
     "metadata": {},
     "output_type": "execute_result"
    }
   ],
   "source": [
    "import os\n",
    "import numpy as np\n",
    "import pandas as pd\n",
    "import matplotlib.pyplot as plt\n",
    "import seaborn as sns\n",
    "import keras\n",
    "import sklearn\n",
    "import csv\n",
    "import re\n",
    "import nltk\n",
    "import hashlib\n",
    "import pickle\n",
    "from googletrans import Translator\n",
    "from nltk.sentiment.vader import SentimentIntensityAnalyzer\n",
    "from nltk.corpus import stopwords\n",
    "from nltk.tokenize import word_tokenize\n",
    "from tqdm import tqdm\n",
    "import time\n",
    "nltk.download('vader_lexicon')\n",
    "nltk.download('punkt')\n",
    "nltk.download('stopwords')"
   ]
  },
  {
   "cell_type": "markdown",
   "metadata": {},
   "source": [
    "# 1. 데이터 확인 및 전처리\n",
    "\n",
    "먼저 컬럼별 어떤 데이터를 넣어놨고 데이터에 오류나 결측치가 있는지 확인\n",
    "\n",
    "이후 데이터의 type이나 기입되어 있는 데이터들이 어떤 형식으로 되어있는지 확인한 다음 데이터 전처리를 실시"
   ]
  },
  {
   "cell_type": "code",
   "execution_count": 3,
   "metadata": {},
   "outputs": [
    {
     "data": {
      "text/html": [
       "<div>\n",
       "<style scoped>\n",
       "    .dataframe tbody tr th:only-of-type {\n",
       "        vertical-align: middle;\n",
       "    }\n",
       "\n",
       "    .dataframe tbody tr th {\n",
       "        vertical-align: top;\n",
       "    }\n",
       "\n",
       "    .dataframe thead th {\n",
       "        text-align: right;\n",
       "    }\n",
       "</style>\n",
       "<table border=\"1\" class=\"dataframe\">\n",
       "  <thead>\n",
       "    <tr style=\"text-align: right;\">\n",
       "      <th></th>\n",
       "      <th>url</th>\n",
       "      <th>product_name</th>\n",
       "      <th>reviewer_name</th>\n",
       "      <th>review_title</th>\n",
       "      <th>review_text</th>\n",
       "      <th>review_rating</th>\n",
       "      <th>verified_purchase</th>\n",
       "      <th>review_date</th>\n",
       "      <th>helpful_count</th>\n",
       "      <th>uniq_id</th>\n",
       "      <th>scraped_at</th>\n",
       "    </tr>\n",
       "  </thead>\n",
       "  <tbody>\n",
       "    <tr>\n",
       "      <th>0</th>\n",
       "      <td>https://www.amazon.co.uk/dp/B07SBX32T5</td>\n",
       "      <td>Klasified Women's Transparent Clear Sneaker Sh...</td>\n",
       "      <td>Jocelyn McSayles</td>\n",
       "      <td>Love em</td>\n",
       "      <td>Love these. Was looking for converses and thes...</td>\n",
       "      <td>5.0</td>\n",
       "      <td>True</td>\n",
       "      <td>Reviewed in the United States on 2 June 2020</td>\n",
       "      <td>2 people found this helpful</td>\n",
       "      <td>36eae4e5-2894-5279-a0b7-d2b330e2b814</td>\n",
       "      <td>24/12/2021 02:26:25</td>\n",
       "    </tr>\n",
       "    <tr>\n",
       "      <th>1</th>\n",
       "      <td>https://www.amazon.co.uk/dp/B07SBX32T5</td>\n",
       "      <td>Klasified Women's Transparent Clear Sneaker Sh...</td>\n",
       "      <td>Kenia Rivera</td>\n",
       "      <td>The plastic ripped</td>\n",
       "      <td>The shoes are very cute, but after the 2nd day...</td>\n",
       "      <td>2.0</td>\n",
       "      <td>True</td>\n",
       "      <td>Reviewed in the United States on 28 October 2021</td>\n",
       "      <td>NaN</td>\n",
       "      <td>f4778bb8-3070-5cb1-b5aa-ffce41a97b57</td>\n",
       "      <td>24/12/2021 02:26:25</td>\n",
       "    </tr>\n",
       "    <tr>\n",
       "      <th>2</th>\n",
       "      <td>https://www.amazon.co.uk/dp/B07SBX32T5</td>\n",
       "      <td>Klasified Women's Transparent Clear Sneaker Sh...</td>\n",
       "      <td>Chris Souza</td>\n",
       "      <td>Good quality</td>\n",
       "      <td>Good quality</td>\n",
       "      <td>5.0</td>\n",
       "      <td>True</td>\n",
       "      <td>Reviewed in the United States on 20 January 2021</td>\n",
       "      <td>NaN</td>\n",
       "      <td>db5a7525-d40b-5265-84d8-df4f29837a3b</td>\n",
       "      <td>24/12/2021 02:26:25</td>\n",
       "    </tr>\n",
       "    <tr>\n",
       "      <th>3</th>\n",
       "      <td>https://www.amazon.co.uk/dp/B07SBX32T5</td>\n",
       "      <td>Klasified Women's Transparent Clear Sneaker Sh...</td>\n",
       "      <td>Amazon Customer</td>\n",
       "      <td>Good</td>\n",
       "      <td>Great</td>\n",
       "      <td>5.0</td>\n",
       "      <td>True</td>\n",
       "      <td>Reviewed in the United States on 22 April 2021</td>\n",
       "      <td>NaN</td>\n",
       "      <td>75a42851-6462-54b5-988a-27d336221943</td>\n",
       "      <td>24/12/2021 02:26:25</td>\n",
       "    </tr>\n",
       "    <tr>\n",
       "      <th>4</th>\n",
       "      <td>https://www.amazon.co.uk/dp/B08SW434MG</td>\n",
       "      <td>GUESS Women's Bradly Gymnastics Shoe, White, 7 UK</td>\n",
       "      <td>Graziella</td>\n",
       "      <td>PERFETTE!!</td>\n",
       "      <td>Ho scelto il modello bianco con rifinitura die...</td>\n",
       "      <td>5.0</td>\n",
       "      <td>True</td>\n",
       "      <td>Reviewed in Italy on 2 April 2021</td>\n",
       "      <td>2 people found this helpful</td>\n",
       "      <td>232dee43-849e-5d06-ba05-efb3f4814714</td>\n",
       "      <td>24/12/2021 02:26:25</td>\n",
       "    </tr>\n",
       "  </tbody>\n",
       "</table>\n",
       "</div>"
      ],
      "text/plain": [
       "                                      url  \\\n",
       "0  https://www.amazon.co.uk/dp/B07SBX32T5   \n",
       "1  https://www.amazon.co.uk/dp/B07SBX32T5   \n",
       "2  https://www.amazon.co.uk/dp/B07SBX32T5   \n",
       "3  https://www.amazon.co.uk/dp/B07SBX32T5   \n",
       "4  https://www.amazon.co.uk/dp/B08SW434MG   \n",
       "\n",
       "                                        product_name     reviewer_name  \\\n",
       "0  Klasified Women's Transparent Clear Sneaker Sh...  Jocelyn McSayles   \n",
       "1  Klasified Women's Transparent Clear Sneaker Sh...      Kenia Rivera   \n",
       "2  Klasified Women's Transparent Clear Sneaker Sh...       Chris Souza   \n",
       "3  Klasified Women's Transparent Clear Sneaker Sh...   Amazon Customer   \n",
       "4  GUESS Women's Bradly Gymnastics Shoe, White, 7 UK         Graziella   \n",
       "\n",
       "         review_title                                        review_text  \\\n",
       "0             Love em  Love these. Was looking for converses and thes...   \n",
       "1  The plastic ripped  The shoes are very cute, but after the 2nd day...   \n",
       "2        Good quality                                       Good quality   \n",
       "3                Good                                              Great   \n",
       "4          PERFETTE!!  Ho scelto il modello bianco con rifinitura die...   \n",
       "\n",
       "   review_rating  verified_purchase  \\\n",
       "0            5.0               True   \n",
       "1            2.0               True   \n",
       "2            5.0               True   \n",
       "3            5.0               True   \n",
       "4            5.0               True   \n",
       "\n",
       "                                        review_date  \\\n",
       "0      Reviewed in the United States on 2 June 2020   \n",
       "1  Reviewed in the United States on 28 October 2021   \n",
       "2  Reviewed in the United States on 20 January 2021   \n",
       "3    Reviewed in the United States on 22 April 2021   \n",
       "4                 Reviewed in Italy on 2 April 2021   \n",
       "\n",
       "                 helpful_count                               uniq_id  \\\n",
       "0  2 people found this helpful  36eae4e5-2894-5279-a0b7-d2b330e2b814   \n",
       "1                          NaN  f4778bb8-3070-5cb1-b5aa-ffce41a97b57   \n",
       "2                          NaN  db5a7525-d40b-5265-84d8-df4f29837a3b   \n",
       "3                          NaN  75a42851-6462-54b5-988a-27d336221943   \n",
       "4  2 people found this helpful  232dee43-849e-5d06-ba05-efb3f4814714   \n",
       "\n",
       "            scraped_at  \n",
       "0  24/12/2021 02:26:25  \n",
       "1  24/12/2021 02:26:25  \n",
       "2  24/12/2021 02:26:25  \n",
       "3  24/12/2021 02:26:25  \n",
       "4  24/12/2021 02:26:25  "
      ]
     },
     "execution_count": 3,
     "metadata": {},
     "output_type": "execute_result"
    }
   ],
   "source": [
    "df = pd.read_csv(\"./amazon_uk_shoes_products_dataset_2021_12.csv\", encoding='utf-8') \n",
    "df.head()"
   ]
  },
  {
   "cell_type": "code",
   "execution_count": 4,
   "metadata": {},
   "outputs": [
    {
     "name": "stdout",
     "output_type": "stream",
     "text": [
      "데이터의 형태 (행, 열)는 (6823, 11) 입니다.\n"
     ]
    }
   ],
   "source": [
    "# 로드된 데이터 프레임의 형태를 출력합니다 (형태는 행과 열의 수입니다)\n",
    "print(\"데이터의 형태 (행, 열)는 \" + str(df.shape) + \" 입니다.\")"
   ]
  },
  {
   "cell_type": "code",
   "execution_count": 5,
   "metadata": {},
   "outputs": [
    {
     "name": "stdout",
     "output_type": "stream",
     "text": [
      "url\n",
      "\n",
      "product_name\n",
      "\n",
      "reviewer_name\n",
      "\n",
      "review_title\n",
      "\n",
      "review_text\n",
      "\n",
      "review_rating\n",
      "\n",
      "verified_purchase\n",
      "\n",
      "review_date\n",
      "\n",
      "helpful_count\n",
      "\n",
      "uniq_id\n",
      "\n",
      "scraped_at\n"
     ]
    }
   ],
   "source": [
    "# 파일 경로\n",
    "file_path = './amazon_uk_shoes_products_dataset_2021_12.csv'\n",
    "\n",
    "# 첫 줄을 읽어서 컬럼 레이블을 확인합니다\n",
    "with open(file_path, mode='r', encoding='utf-8') as file:\n",
    "    reader = csv.reader(file)\n",
    "    column_labels = next(reader)\n",
    "\n",
    "# 컬럼 레이블을 한 줄씩 출력합니다\n",
    "formatted_labels = \"\\n\\n\".join(column_labels)\n",
    "print(formatted_labels)"
   ]
  },
  {
   "cell_type": "markdown",
   "metadata": {},
   "source": [
    "컬럼은 위와 같은 형태로 존재하는데 저 중에서 필요한 데이터는 사실상 review_title, review_text, review_rating라고 판단\n",
    "\n",
    "review_rating은 맥락이 필요한 텍스트(비꼬는 리뷰)에 필요할 수 있어서 남겨두었음\n",
    "\n",
    "helpful_count가 물건에 대한 설명과 감정이 잘 드러난 데이터에 주로 많은 경향이 있어서 가중치로 사용할까 했지만 복잡해지고 정확도에 부정적인 영향을 끼칠 수 있기에 우선 제외"
   ]
  },
  {
   "cell_type": "markdown",
   "metadata": {},
   "source": [
    "### (1) 특수문자 제거, 영어 번역, 불용어 제거, 제목과 본문 통합\n",
    "\n",
    "원래 계획은 각각의 과정을 따로 시행하려 했지만 번역 과정에서 너무 많은 시간이 소요되는 문제가 발생\n",
    "\n",
    "또한 6천개가 넘는 데이터를 매번 확인하며 전처리를 하는 것은 비효율적이라고 판단\n",
    "\n",
    "따라서 모든 데이터 처리를 한번에 시행하며 영어 번역은 시행속도를 올리기 위해 병렬처리"
   ]
  },
  {
   "cell_type": "code",
   "execution_count": 7,
   "metadata": {},
   "outputs": [
    {
     "name": "stderr",
     "output_type": "stream",
     "text": [
      "Processing reviews:  14%|█▍        | 984/6823 [00:00<00:03, 1525.05it/s]"
     ]
    },
    {
     "name": "stdout",
     "output_type": "stream",
     "text": [
      "Translation error: sequence item 1: expected str instance, NoneType found\n"
     ]
    },
    {
     "name": "stderr",
     "output_type": "stream",
     "text": [
      "Processing reviews:  18%|█▊        | 1220/6823 [00:01<00:04, 1149.59it/s]"
     ]
    },
    {
     "name": "stdout",
     "output_type": "stream",
     "text": [
      "Translation error: sequence item 1: expected str instance, NoneType found\n"
     ]
    },
    {
     "name": "stderr",
     "output_type": "stream",
     "text": [
      "Processing reviews:  22%|██▏       | 1535/6823 [00:01<00:04, 1150.28it/s]"
     ]
    },
    {
     "name": "stdout",
     "output_type": "stream",
     "text": [
      "Translation error: sequence item 1: expected str instance, NoneType found\n"
     ]
    },
    {
     "name": "stderr",
     "output_type": "stream",
     "text": [
      "Processing reviews:  34%|███▎      | 2297/6823 [00:01<00:02, 1568.98it/s]"
     ]
    },
    {
     "name": "stdout",
     "output_type": "stream",
     "text": [
      "Translation error: sequence item 1: expected str instance, NoneType found\n",
      "Translation error: sequence item 1: expected str instance, NoneType found\n"
     ]
    },
    {
     "name": "stderr",
     "output_type": "stream",
     "text": [
      "Processing reviews:  51%|█████▏    | 3508/6823 [00:02<00:01, 1969.61it/s]"
     ]
    },
    {
     "name": "stdout",
     "output_type": "stream",
     "text": [
      "Translation error: sequence item 2: expected str instance, NoneType found\n"
     ]
    },
    {
     "name": "stderr",
     "output_type": "stream",
     "text": [
      "Processing reviews:  62%|██████▏   | 4211/6823 [00:02<00:01, 1887.74it/s]"
     ]
    },
    {
     "name": "stdout",
     "output_type": "stream",
     "text": [
      "Translation error: sequence item 1: expected str instance, NoneType found\n",
      "Translation error: sequence item 1: expected str instance, NoneType found\n"
     ]
    },
    {
     "name": "stderr",
     "output_type": "stream",
     "text": [
      "Processing reviews:  71%|███████▏  | 4875/6823 [00:03<00:01, 1469.67it/s]"
     ]
    },
    {
     "name": "stdout",
     "output_type": "stream",
     "text": [
      "Translation error: sequence item 1: expected str instance, NoneType found\n"
     ]
    },
    {
     "name": "stderr",
     "output_type": "stream",
     "text": [
      "Processing reviews:  94%|█████████▍| 6430/6823 [00:04<00:00, 2609.93it/s]"
     ]
    },
    {
     "name": "stdout",
     "output_type": "stream",
     "text": [
      "Translation error: sequence item 1: expected str instance, NoneType found\n"
     ]
    },
    {
     "name": "stderr",
     "output_type": "stream",
     "text": [
      "Processing reviews: 100%|██████████| 6823/6823 [00:04<00:00, 1465.10it/s]"
     ]
    },
    {
     "name": "stdout",
     "output_type": "stream",
     "text": [
      "Translation error: sequence item 2: expected str instance, NoneType found\n",
      "0    love em love looking converses half price uniq...\n",
      "1    plastic ripped shoes cute 2nd day wearing tong...\n",
      "2                            good quality good quality\n",
      "3                                           good great\n",
      "4    perfect chose white model finish behind black ...\n",
      "Name: processed_review, dtype: object\n"
     ]
    },
    {
     "name": "stderr",
     "output_type": "stream",
     "text": [
      "\n"
     ]
    }
   ],
   "source": [
    "# 불용어 설정\n",
    "stop_words = set(stopwords.words('english'))\n",
    "\n",
    "# Google Translator 설정\n",
    "translator = Translator()\n",
    "\n",
    "# 번역 캐시 파일 경로\n",
    "cache_file = './translation_cache.pkl'\n",
    "\n",
    "# 번역 캐시 로드 또는 초기화\n",
    "if os.path.exists(cache_file):\n",
    "    with open(cache_file, 'rb') as f:\n",
    "        translation_cache = pickle.load(f)\n",
    "else:\n",
    "    translation_cache = {}\n",
    "\n",
    "# 텍스트 해시 함수\n",
    "def text_hash(text):\n",
    "    return hashlib.md5(text.encode()).hexdigest()\n",
    "\n",
    "# 통합된 전처리 함수\n",
    "def preprocess_and_translate(row):\n",
    "    # 번역 함수 (캐시 사용 및 딜레이 추가)\n",
    "    def translate_to_english(text):\n",
    "        if not isinstance(text, str):\n",
    "            text = ''\n",
    "        text_key = text_hash(text)\n",
    "        if text_key in translation_cache:\n",
    "            return translation_cache[text_key]\n",
    "        else:\n",
    "            try:\n",
    "                detected_lang = translator.detect(text).lang\n",
    "                print(f\"Detected language: {detected_lang}\")\n",
    "                translated = translator.translate(text, src=detected_lang, dest='en').text\n",
    "                translation_cache[text_key] = translated\n",
    "                # 딜레이 추가\n",
    "                time.sleep(2)  # 2초 딜레이 추가\n",
    "                return translated\n",
    "            except Exception as e:\n",
    "                print(f\"Translation error: {e}\")\n",
    "                return text  # 번역 실패 시 원본 텍스트 반환\n",
    "\n",
    "    # 특수 문자 제거 함수\n",
    "    def remove_special_characters(text):\n",
    "        return re.sub(r'[^a-zA-Z0-9\\s]', '', text)\n",
    "\n",
    "    # 텍스트 전처리 함수 (불용어 제거 포함)\n",
    "    def preprocess_text(text):\n",
    "        text = text.lower()  # 소문자 변환\n",
    "        text = re.sub(r'\\s+', ' ', text).strip()  # 여러 공백을 하나의 공백으로 변환하고 양쪽 공백 제거\n",
    "        tokens = word_tokenize(text)\n",
    "        filtered_tokens = [word for word in tokens if word not in stop_words]\n",
    "        return ' '.join(filtered_tokens)\n",
    "\n",
    "    # 제목과 본문 통합\n",
    "    title = row['review_title'] if pd.notna(row['review_title']) else ''\n",
    "    review = row['review_text'] if pd.notna(row['review_text']) else ''\n",
    "    combined = title + ' ' + review if title and review else title or review\n",
    "\n",
    "    # 번역\n",
    "    translated_text = translate_to_english(combined)\n",
    "    \n",
    "    # 특수 문자 제거 및 전처리\n",
    "    translated_text = remove_special_characters(translated_text)\n",
    "    cleaned_text = preprocess_text(translated_text)\n",
    "    \n",
    "    return cleaned_text\n",
    "\n",
    "# 모든 리뷰 텍스트와 제목을 한 번에 전처리하고 번역 (진행 상황 표시)\n",
    "tqdm.pandas(desc=\"Processing reviews\")\n",
    "df['processed_review'] = df.progress_apply(preprocess_and_translate, axis=1)\n",
    "\n",
    "# 번역 캐시 저장\n",
    "with open(cache_file, 'wb') as f:\n",
    "    pickle.dump(translation_cache, f)\n",
    "\n",
    "# 전처리된 리뷰 텍스트 확인\n",
    "print(df['processed_review'].head())\n",
    "\n",
    "# 필요한 컬럼만 선택하여 저장\n",
    "output_file_path = './processed_reviews.csv'\n",
    "df[['processed_review', 'review_rating']].to_csv(output_file_path, index=False)"
   ]
  }
 ],
 "metadata": {
  "kernelspec": {
   "display_name": "Python 3",
   "language": "python",
   "name": "python3"
  },
  "language_info": {
   "codemirror_mode": {
    "name": "ipython",
    "version": 3
   },
   "file_extension": ".py",
   "mimetype": "text/x-python",
   "name": "python",
   "nbconvert_exporter": "python",
   "pygments_lexer": "ipython3",
   "version": "3.12.1"
  }
 },
 "nbformat": 4,
 "nbformat_minor": 2
}

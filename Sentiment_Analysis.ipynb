{
 "cells": [
  {
   "cell_type": "markdown",
   "metadata": {},
   "source": [
    "#### ! 선행 설치 모듈 및 라이브러리"
   ]
  },
  {
   "cell_type": "code",
   "execution_count": 1,
   "metadata": {},
   "outputs": [
    {
     "name": "stdout",
     "output_type": "stream",
     "text": [
      "Requirement already satisfied: seaborn in c:\\users\\정재현\\appdata\\local\\programs\\python\\python312\\lib\\site-packages (0.13.2)\n",
      "Requirement already satisfied: numpy!=1.24.0,>=1.20 in c:\\users\\정재현\\appdata\\local\\programs\\python\\python312\\lib\\site-packages (from seaborn) (1.26.4)\n",
      "Requirement already satisfied: pandas>=1.2 in c:\\users\\정재현\\appdata\\local\\programs\\python\\python312\\lib\\site-packages (from seaborn) (2.1.4)\n",
      "Requirement already satisfied: matplotlib!=3.6.1,>=3.4 in c:\\users\\정재현\\appdata\\local\\programs\\python\\python312\\lib\\site-packages (from seaborn) (3.8.3)\n",
      "Requirement already satisfied: contourpy>=1.0.1 in c:\\users\\정재현\\appdata\\local\\programs\\python\\python312\\lib\\site-packages (from matplotlib!=3.6.1,>=3.4->seaborn) (1.2.1)\n",
      "Requirement already satisfied: cycler>=0.10 in c:\\users\\정재현\\appdata\\local\\programs\\python\\python312\\lib\\site-packages (from matplotlib!=3.6.1,>=3.4->seaborn) (0.12.1)\n",
      "Requirement already satisfied: fonttools>=4.22.0 in c:\\users\\정재현\\appdata\\local\\programs\\python\\python312\\lib\\site-packages (from matplotlib!=3.6.1,>=3.4->seaborn) (4.50.0)\n",
      "Requirement already satisfied: kiwisolver>=1.3.1 in c:\\users\\정재현\\appdata\\local\\programs\\python\\python312\\lib\\site-packages (from matplotlib!=3.6.1,>=3.4->seaborn) (1.4.5)\n",
      "Requirement already satisfied: packaging>=20.0 in c:\\users\\정재현\\appdata\\local\\programs\\python\\python312\\lib\\site-packages (from matplotlib!=3.6.1,>=3.4->seaborn) (23.2)\n",
      "Requirement already satisfied: pillow>=8 in c:\\users\\정재현\\appdata\\local\\programs\\python\\python312\\lib\\site-packages (from matplotlib!=3.6.1,>=3.4->seaborn) (10.3.0)\n",
      "Requirement already satisfied: pyparsing>=2.3.1 in c:\\users\\정재현\\appdata\\local\\programs\\python\\python312\\lib\\site-packages (from matplotlib!=3.6.1,>=3.4->seaborn) (3.1.2)\n",
      "Requirement already satisfied: python-dateutil>=2.7 in c:\\users\\정재현\\appdata\\local\\programs\\python\\python312\\lib\\site-packages (from matplotlib!=3.6.1,>=3.4->seaborn) (2.8.2)\n",
      "Requirement already satisfied: pytz>=2020.1 in c:\\users\\정재현\\appdata\\local\\programs\\python\\python312\\lib\\site-packages (from pandas>=1.2->seaborn) (2023.3.post1)\n",
      "Requirement already satisfied: tzdata>=2022.1 in c:\\users\\정재현\\appdata\\local\\programs\\python\\python312\\lib\\site-packages (from pandas>=1.2->seaborn) (2023.4)\n",
      "Requirement already satisfied: six>=1.5 in c:\\users\\정재현\\appdata\\local\\programs\\python\\python312\\lib\\site-packages (from python-dateutil>=2.7->matplotlib!=3.6.1,>=3.4->seaborn) (1.16.0)\n",
      "Note: you may need to restart the kernel to use updated packages.\n",
      "Requirement already satisfied: nltk in c:\\users\\정재현\\appdata\\local\\programs\\python\\python312\\lib\\site-packages (3.8.1)\n",
      "Requirement already satisfied: click in c:\\users\\정재현\\appdata\\local\\programs\\python\\python312\\lib\\site-packages (from nltk) (8.1.7)\n",
      "Requirement already satisfied: joblib in c:\\users\\정재현\\appdata\\local\\programs\\python\\python312\\lib\\site-packages (from nltk) (1.4.0)\n",
      "Requirement already satisfied: regex>=2021.8.3 in c:\\users\\정재현\\appdata\\local\\programs\\python\\python312\\lib\\site-packages (from nltk) (2024.5.15)\n",
      "Requirement already satisfied: tqdm in c:\\users\\정재현\\appdata\\local\\programs\\python\\python312\\lib\\site-packages (from nltk) (4.66.2)\n",
      "Requirement already satisfied: colorama in c:\\users\\정재현\\appdata\\local\\programs\\python\\python312\\lib\\site-packages (from click->nltk) (0.4.6)\n",
      "Note: you may need to restart the kernel to use updated packages.\n",
      "Requirement already satisfied: googletrans==4.0.0-rc1 in c:\\users\\정재현\\appdata\\local\\programs\\python\\python312\\lib\\site-packages (4.0.0rc1)\n",
      "Requirement already satisfied: httpx==0.13.3 in c:\\users\\정재현\\appdata\\local\\programs\\python\\python312\\lib\\site-packages (from googletrans==4.0.0-rc1) (0.13.3)\n",
      "Requirement already satisfied: certifi in c:\\users\\정재현\\appdata\\local\\programs\\python\\python312\\lib\\site-packages (from httpx==0.13.3->googletrans==4.0.0-rc1) (2024.2.2)\n",
      "Requirement already satisfied: hstspreload in c:\\users\\정재현\\appdata\\local\\programs\\python\\python312\\lib\\site-packages (from httpx==0.13.3->googletrans==4.0.0-rc1) (2024.6.1)\n",
      "Requirement already satisfied: sniffio in c:\\users\\정재현\\appdata\\local\\programs\\python\\python312\\lib\\site-packages (from httpx==0.13.3->googletrans==4.0.0-rc1) (1.3.1)\n",
      "Requirement already satisfied: chardet==3.* in c:\\users\\정재현\\appdata\\local\\programs\\python\\python312\\lib\\site-packages (from httpx==0.13.3->googletrans==4.0.0-rc1) (3.0.4)\n",
      "Requirement already satisfied: idna==2.* in c:\\users\\정재현\\appdata\\local\\programs\\python\\python312\\lib\\site-packages (from httpx==0.13.3->googletrans==4.0.0-rc1) (2.10)\n",
      "Requirement already satisfied: rfc3986<2,>=1.3 in c:\\users\\정재현\\appdata\\local\\programs\\python\\python312\\lib\\site-packages (from httpx==0.13.3->googletrans==4.0.0-rc1) (1.5.0)\n",
      "Requirement already satisfied: httpcore==0.9.* in c:\\users\\정재현\\appdata\\local\\programs\\python\\python312\\lib\\site-packages (from httpx==0.13.3->googletrans==4.0.0-rc1) (0.9.1)\n",
      "Requirement already satisfied: h11<0.10,>=0.8 in c:\\users\\정재현\\appdata\\local\\programs\\python\\python312\\lib\\site-packages (from httpcore==0.9.*->httpx==0.13.3->googletrans==4.0.0-rc1) (0.9.0)\n",
      "Requirement already satisfied: h2==3.* in c:\\users\\정재현\\appdata\\local\\programs\\python\\python312\\lib\\site-packages (from httpcore==0.9.*->httpx==0.13.3->googletrans==4.0.0-rc1) (3.2.0)\n",
      "Requirement already satisfied: hyperframe<6,>=5.2.0 in c:\\users\\정재현\\appdata\\local\\programs\\python\\python312\\lib\\site-packages (from h2==3.*->httpcore==0.9.*->httpx==0.13.3->googletrans==4.0.0-rc1) (5.2.0)\n",
      "Requirement already satisfied: hpack<4,>=3.0 in c:\\users\\정재현\\appdata\\local\\programs\\python\\python312\\lib\\site-packages (from h2==3.*->httpcore==0.9.*->httpx==0.13.3->googletrans==4.0.0-rc1) (3.0.0)\n",
      "Note: you may need to restart the kernel to use updated packages.\n",
      "Requirement already satisfied: imbalanced-learn in c:\\users\\정재현\\appdata\\local\\programs\\python\\python312\\lib\\site-packages (0.12.3)\n",
      "Requirement already satisfied: numpy>=1.17.3 in c:\\users\\정재현\\appdata\\local\\programs\\python\\python312\\lib\\site-packages (from imbalanced-learn) (1.26.4)\n",
      "Requirement already satisfied: scipy>=1.5.0 in c:\\users\\정재현\\appdata\\local\\programs\\python\\python312\\lib\\site-packages (from imbalanced-learn) (1.13.1)\n",
      "Requirement already satisfied: scikit-learn>=1.0.2 in c:\\users\\정재현\\appdata\\local\\programs\\python\\python312\\lib\\site-packages (from imbalanced-learn) (1.5.0)\n",
      "Requirement already satisfied: joblib>=1.1.1 in c:\\users\\정재현\\appdata\\local\\programs\\python\\python312\\lib\\site-packages (from imbalanced-learn) (1.4.0)\n",
      "Requirement already satisfied: threadpoolctl>=2.0.0 in c:\\users\\정재현\\appdata\\local\\programs\\python\\python312\\lib\\site-packages (from imbalanced-learn) (3.4.0)\n",
      "Note: you may need to restart the kernel to use updated packages.\n"
     ]
    }
   ],
   "source": [
    "%pip install seaborn\n",
    "%pip install nltk\n",
    "%pip install googletrans==4.0.0-rc1\n",
    "%pip install keras\n",
    "%pip install tensorflow"
   ]
  },
  {
   "cell_type": "code",
   "execution_count": 2,
   "metadata": {},
   "outputs": [
    {
     "name": "stderr",
     "output_type": "stream",
     "text": [
      "[nltk_data] Downloading package vader_lexicon to\n",
      "[nltk_data]     C:\\Users\\정재현\\AppData\\Roaming\\nltk_data...\n",
      "[nltk_data]   Package vader_lexicon is already up-to-date!\n",
      "[nltk_data] Downloading package punkt to\n",
      "[nltk_data]     C:\\Users\\정재현\\AppData\\Roaming\\nltk_data...\n",
      "[nltk_data]   Package punkt is already up-to-date!\n",
      "[nltk_data] Downloading package stopwords to\n",
      "[nltk_data]     C:\\Users\\정재현\\AppData\\Roaming\\nltk_data...\n",
      "[nltk_data]   Package stopwords is already up-to-date!\n",
      "[nltk_data] Downloading package wordnet to\n",
      "[nltk_data]     C:\\Users\\정재현\\AppData\\Roaming\\nltk_data...\n",
      "[nltk_data]   Package wordnet is already up-to-date!\n",
      "[nltk_data] Downloading package omw-1.4 to\n",
      "[nltk_data]     C:\\Users\\정재현\\AppData\\Roaming\\nltk_data...\n",
      "[nltk_data]   Package omw-1.4 is already up-to-date!\n"
     ]
    },
    {
     "data": {
      "text/plain": [
       "True"
      ]
     },
     "execution_count": 2,
     "metadata": {},
     "output_type": "execute_result"
    }
   ],
   "source": [
    "import os\n",
    "import numpy as np\n",
    "import pandas as pd\n",
    "import matplotlib.pyplot as plt\n",
    "import seaborn as sns\n",
    "import keras\n",
    "import sklearn\n",
    "import csv\n",
    "import re\n",
    "import nltk\n",
    "import hashlib\n",
    "import pickle\n",
    "from googletrans import Translator\n",
    "from imblearn.over_sampling import SMOTE\n",
    "from nltk.sentiment.vader import SentimentIntensityAnalyzer\n",
    "from nltk.corpus import stopwords\n",
    "from nltk.tokenize import word_tokenize\n",
    "from tqdm import tqdm\n",
    "import time\n",
    "from nltk.stem import PorterStemmer, WordNetLemmatizer\n",
    "from sklearn.metrics import accuracy_score, precision_score, recall_score, f1_score, roc_auc_score, confusion_matrix, roc_curve\n",
    "from sklearn.model_selection import train_test_split, GridSearchCV, cross_val_score\n",
    "from sklearn.feature_extraction.text import TfidfVectorizer\n",
    "from sklearn.linear_model import LogisticRegression\n",
    "nltk.download('vader_lexicon')\n",
    "nltk.download('punkt')\n",
    "nltk.download('stopwords')\n",
    "nltk.download('wordnet')\n",
    "nltk.download('omw-1.4')"
   ]
  },
  {
   "cell_type": "markdown",
   "metadata": {},
   "source": [
    "# 1. 데이터 확인 및 전처리\n",
    "\n",
    "먼저 컬럼별 어떤 데이터를 넣어놨고 데이터에 오류나 결측치가 있는지 확인\n",
    "\n",
    "이후 데이터의 type이나 기입되어 있는 데이터들이 어떤 형식으로 되어있는지 확인한 다음 데이터 전처리를 실시"
   ]
  },
  {
   "cell_type": "code",
   "execution_count": 3,
   "metadata": {},
   "outputs": [
    {
     "data": {
      "text/html": [
       "<div>\n",
       "<style scoped>\n",
       "    .dataframe tbody tr th:only-of-type {\n",
       "        vertical-align: middle;\n",
       "    }\n",
       "\n",
       "    .dataframe tbody tr th {\n",
       "        vertical-align: top;\n",
       "    }\n",
       "\n",
       "    .dataframe thead th {\n",
       "        text-align: right;\n",
       "    }\n",
       "</style>\n",
       "<table border=\"1\" class=\"dataframe\">\n",
       "  <thead>\n",
       "    <tr style=\"text-align: right;\">\n",
       "      <th></th>\n",
       "      <th>url</th>\n",
       "      <th>product_name</th>\n",
       "      <th>reviewer_name</th>\n",
       "      <th>review_title</th>\n",
       "      <th>review_text</th>\n",
       "      <th>review_rating</th>\n",
       "      <th>verified_purchase</th>\n",
       "      <th>review_date</th>\n",
       "      <th>helpful_count</th>\n",
       "      <th>uniq_id</th>\n",
       "      <th>scraped_at</th>\n",
       "    </tr>\n",
       "  </thead>\n",
       "  <tbody>\n",
       "    <tr>\n",
       "      <th>0</th>\n",
       "      <td>https://www.amazon.co.uk/dp/B07SBX32T5</td>\n",
       "      <td>Klasified Women's Transparent Clear Sneaker Sh...</td>\n",
       "      <td>Jocelyn McSayles</td>\n",
       "      <td>Love em</td>\n",
       "      <td>Love these. Was looking for converses and thes...</td>\n",
       "      <td>5.0</td>\n",
       "      <td>True</td>\n",
       "      <td>Reviewed in the United States on 2 June 2020</td>\n",
       "      <td>2 people found this helpful</td>\n",
       "      <td>36eae4e5-2894-5279-a0b7-d2b330e2b814</td>\n",
       "      <td>24/12/2021 02:26:25</td>\n",
       "    </tr>\n",
       "    <tr>\n",
       "      <th>1</th>\n",
       "      <td>https://www.amazon.co.uk/dp/B07SBX32T5</td>\n",
       "      <td>Klasified Women's Transparent Clear Sneaker Sh...</td>\n",
       "      <td>Kenia Rivera</td>\n",
       "      <td>The plastic ripped</td>\n",
       "      <td>The shoes are very cute, but after the 2nd day...</td>\n",
       "      <td>2.0</td>\n",
       "      <td>True</td>\n",
       "      <td>Reviewed in the United States on 28 October 2021</td>\n",
       "      <td>NaN</td>\n",
       "      <td>f4778bb8-3070-5cb1-b5aa-ffce41a97b57</td>\n",
       "      <td>24/12/2021 02:26:25</td>\n",
       "    </tr>\n",
       "    <tr>\n",
       "      <th>2</th>\n",
       "      <td>https://www.amazon.co.uk/dp/B07SBX32T5</td>\n",
       "      <td>Klasified Women's Transparent Clear Sneaker Sh...</td>\n",
       "      <td>Chris Souza</td>\n",
       "      <td>Good quality</td>\n",
       "      <td>Good quality</td>\n",
       "      <td>5.0</td>\n",
       "      <td>True</td>\n",
       "      <td>Reviewed in the United States on 20 January 2021</td>\n",
       "      <td>NaN</td>\n",
       "      <td>db5a7525-d40b-5265-84d8-df4f29837a3b</td>\n",
       "      <td>24/12/2021 02:26:25</td>\n",
       "    </tr>\n",
       "    <tr>\n",
       "      <th>3</th>\n",
       "      <td>https://www.amazon.co.uk/dp/B07SBX32T5</td>\n",
       "      <td>Klasified Women's Transparent Clear Sneaker Sh...</td>\n",
       "      <td>Amazon Customer</td>\n",
       "      <td>Good</td>\n",
       "      <td>Great</td>\n",
       "      <td>5.0</td>\n",
       "      <td>True</td>\n",
       "      <td>Reviewed in the United States on 22 April 2021</td>\n",
       "      <td>NaN</td>\n",
       "      <td>75a42851-6462-54b5-988a-27d336221943</td>\n",
       "      <td>24/12/2021 02:26:25</td>\n",
       "    </tr>\n",
       "    <tr>\n",
       "      <th>4</th>\n",
       "      <td>https://www.amazon.co.uk/dp/B08SW434MG</td>\n",
       "      <td>GUESS Women's Bradly Gymnastics Shoe, White, 7 UK</td>\n",
       "      <td>Graziella</td>\n",
       "      <td>PERFETTE!!</td>\n",
       "      <td>Ho scelto il modello bianco con rifinitura die...</td>\n",
       "      <td>5.0</td>\n",
       "      <td>True</td>\n",
       "      <td>Reviewed in Italy on 2 April 2021</td>\n",
       "      <td>2 people found this helpful</td>\n",
       "      <td>232dee43-849e-5d06-ba05-efb3f4814714</td>\n",
       "      <td>24/12/2021 02:26:25</td>\n",
       "    </tr>\n",
       "  </tbody>\n",
       "</table>\n",
       "</div>"
      ],
      "text/plain": [
       "                                      url  \\\n",
       "0  https://www.amazon.co.uk/dp/B07SBX32T5   \n",
       "1  https://www.amazon.co.uk/dp/B07SBX32T5   \n",
       "2  https://www.amazon.co.uk/dp/B07SBX32T5   \n",
       "3  https://www.amazon.co.uk/dp/B07SBX32T5   \n",
       "4  https://www.amazon.co.uk/dp/B08SW434MG   \n",
       "\n",
       "                                        product_name     reviewer_name  \\\n",
       "0  Klasified Women's Transparent Clear Sneaker Sh...  Jocelyn McSayles   \n",
       "1  Klasified Women's Transparent Clear Sneaker Sh...      Kenia Rivera   \n",
       "2  Klasified Women's Transparent Clear Sneaker Sh...       Chris Souza   \n",
       "3  Klasified Women's Transparent Clear Sneaker Sh...   Amazon Customer   \n",
       "4  GUESS Women's Bradly Gymnastics Shoe, White, 7 UK         Graziella   \n",
       "\n",
       "         review_title                                        review_text  \\\n",
       "0             Love em  Love these. Was looking for converses and thes...   \n",
       "1  The plastic ripped  The shoes are very cute, but after the 2nd day...   \n",
       "2        Good quality                                       Good quality   \n",
       "3                Good                                              Great   \n",
       "4          PERFETTE!!  Ho scelto il modello bianco con rifinitura die...   \n",
       "\n",
       "   review_rating  verified_purchase  \\\n",
       "0            5.0               True   \n",
       "1            2.0               True   \n",
       "2            5.0               True   \n",
       "3            5.0               True   \n",
       "4            5.0               True   \n",
       "\n",
       "                                        review_date  \\\n",
       "0      Reviewed in the United States on 2 June 2020   \n",
       "1  Reviewed in the United States on 28 October 2021   \n",
       "2  Reviewed in the United States on 20 January 2021   \n",
       "3    Reviewed in the United States on 22 April 2021   \n",
       "4                 Reviewed in Italy on 2 April 2021   \n",
       "\n",
       "                 helpful_count                               uniq_id  \\\n",
       "0  2 people found this helpful  36eae4e5-2894-5279-a0b7-d2b330e2b814   \n",
       "1                          NaN  f4778bb8-3070-5cb1-b5aa-ffce41a97b57   \n",
       "2                          NaN  db5a7525-d40b-5265-84d8-df4f29837a3b   \n",
       "3                          NaN  75a42851-6462-54b5-988a-27d336221943   \n",
       "4  2 people found this helpful  232dee43-849e-5d06-ba05-efb3f4814714   \n",
       "\n",
       "            scraped_at  \n",
       "0  24/12/2021 02:26:25  \n",
       "1  24/12/2021 02:26:25  \n",
       "2  24/12/2021 02:26:25  \n",
       "3  24/12/2021 02:26:25  \n",
       "4  24/12/2021 02:26:25  "
      ]
     },
     "execution_count": 3,
     "metadata": {},
     "output_type": "execute_result"
    }
   ],
   "source": [
    "df = pd.read_csv(\"./amazon_uk_shoes_products_dataset_2021_12.csv\", encoding='utf-8') \n",
    "df.head()"
   ]
  },
  {
   "cell_type": "code",
   "execution_count": 4,
   "metadata": {},
   "outputs": [
    {
     "name": "stdout",
     "output_type": "stream",
     "text": [
      "데이터의 형태 (행, 열)는 (6823, 11) 입니다.\n"
     ]
    }
   ],
   "source": [
    "# 로드된 데이터 프레임의 형태를 출력합니다 (형태는 행과 열의 수입니다)\n",
    "print(\"데이터의 형태 (행, 열)는 \" + str(df.shape) + \" 입니다.\")"
   ]
  },
  {
   "cell_type": "code",
   "execution_count": 5,
   "metadata": {},
   "outputs": [
    {
     "name": "stdout",
     "output_type": "stream",
     "text": [
      "url\n",
      "\n",
      "product_name\n",
      "\n",
      "reviewer_name\n",
      "\n",
      "review_title\n",
      "\n",
      "review_text\n",
      "\n",
      "review_rating\n",
      "\n",
      "verified_purchase\n",
      "\n",
      "review_date\n",
      "\n",
      "helpful_count\n",
      "\n",
      "uniq_id\n",
      "\n",
      "scraped_at\n"
     ]
    }
   ],
   "source": [
    "# 파일 경로\n",
    "file_path = './amazon_uk_shoes_products_dataset_2021_12.csv'\n",
    "\n",
    "# 첫 줄을 읽어서 컬럼 레이블을 확인합니다\n",
    "with open(file_path, mode='r', encoding='utf-8') as file:\n",
    "    reader = csv.reader(file)\n",
    "    column_labels = next(reader)\n",
    "\n",
    "# 컬럼 레이블을 한 줄씩 출력합니다\n",
    "formatted_labels = \"\\n\\n\".join(column_labels)\n",
    "print(formatted_labels)"
   ]
  },
  {
   "cell_type": "markdown",
   "metadata": {},
   "source": [
    "컬럼은 위와 같은 형태로 존재하는데 저 중에서 필요한 데이터는 사실상 review_title, review_text라고 판단\n",
    "\n",
    "review_rating은 맥락이 필요한 텍스트(비꼬는 리뷰)에 필요할 수 있지만 우선은 rating 없이 시행\n",
    "(가중치에서 얼마나 평점을 참조할지, 이로 인한 편향이 생길 수 있기 때문)\n",
    "\n",
    "\n",
    "helpful_count가 물건에 대한 설명과 감정이 잘 드러난 데이터에 주로 많은 경향이 있어서 가중치로 사용할까 했지만 복잡해지고 정확도에 부정적인 영향을 끼칠 수 있기에 우선 제외"
   ]
  },
  {
   "cell_type": "markdown",
   "metadata": {},
   "source": [
    "### (1) 특수문자 제거, 영어 번역, 불용어 제거, 제목과 본문 통합\n",
    "\n",
    "원래 계획은 각각의 과정을 따로 시행하려 했지만 번역 과정에서 너무 많은 시간이 소요되는 문제가 발생\n",
    "\n",
    "또한 6천개가 넘는 데이터를 매번 확인하며 전처리를 하는 것은 비효율적이라고 판단\n",
    "\n",
    "따라서 모든 데이터 처리를 한번에 시행하며 영어 번역은 시행속도를 올리기 위해 병렬처리\n",
    "\n",
    "해당 프로젝트는 평가에 중점을 두고 있으므로 번역파일을 따로 기재함\n",
    "\n",
    "따라서 해당 코드를 실행할 필요가 없음"
   ]
  },
  {
   "cell_type": "code",
   "execution_count": 6,
   "metadata": {},
   "outputs": [
    {
     "name": "stderr",
     "output_type": "stream",
     "text": [
      "Processing reviews:  12%|█▏        | 837/6823 [00:01<00:07, 783.00it/s] "
     ]
    },
    {
     "name": "stdout",
     "output_type": "stream",
     "text": [
      "Translation error: sequence item 1: expected str instance, NoneType found\n"
     ]
    },
    {
     "name": "stderr",
     "output_type": "stream",
     "text": [
      "Processing reviews:  17%|█▋        | 1162/6823 [00:01<00:07, 785.76it/s]"
     ]
    },
    {
     "name": "stdout",
     "output_type": "stream",
     "text": [
      "Translation error: sequence item 1: expected str instance, NoneType found\n"
     ]
    },
    {
     "name": "stderr",
     "output_type": "stream",
     "text": [
      "Processing reviews:  25%|██▍       | 1702/6823 [00:02<00:06, 787.47it/s]"
     ]
    },
    {
     "name": "stdout",
     "output_type": "stream",
     "text": [
      "Translation error: sequence item 1: expected str instance, NoneType found\n"
     ]
    },
    {
     "name": "stderr",
     "output_type": "stream",
     "text": [
      "Processing reviews:  31%|███       | 2092/6823 [00:02<00:05, 798.70it/s]"
     ]
    },
    {
     "name": "stdout",
     "output_type": "stream",
     "text": [
      "Translation error: sequence item 1: expected str instance, NoneType found\n"
     ]
    },
    {
     "name": "stderr",
     "output_type": "stream",
     "text": [
      "Processing reviews:  37%|███▋      | 2510/6823 [00:03<00:07, 543.38it/s]"
     ]
    },
    {
     "name": "stdout",
     "output_type": "stream",
     "text": [
      "Translation error: sequence item 1: expected str instance, NoneType found\n"
     ]
    },
    {
     "name": "stderr",
     "output_type": "stream",
     "text": [
      "Processing reviews:  39%|███▉      | 2694/6823 [00:03<00:07, 566.35it/s]"
     ]
    },
    {
     "name": "stdout",
     "output_type": "stream",
     "text": [
      "Translation error: sequence item 2: expected str instance, NoneType found\n"
     ]
    },
    {
     "name": "stderr",
     "output_type": "stream",
     "text": [
      "Processing reviews:  56%|█████▌    | 3818/6823 [00:04<00:03, 900.47it/s] "
     ]
    },
    {
     "name": "stdout",
     "output_type": "stream",
     "text": [
      "Translation error: sequence item 1: expected str instance, NoneType found\n"
     ]
    },
    {
     "name": "stderr",
     "output_type": "stream",
     "text": [
      "Processing reviews:  63%|██████▎   | 4329/6823 [00:05<00:01, 1351.95it/s]"
     ]
    },
    {
     "name": "stdout",
     "output_type": "stream",
     "text": [
      "Translation error: sequence item 1: expected str instance, NoneType found\n"
     ]
    },
    {
     "name": "stderr",
     "output_type": "stream",
     "text": [
      "Processing reviews:  67%|██████▋   | 4597/6823 [00:05<00:03, 687.78it/s] "
     ]
    },
    {
     "name": "stdout",
     "output_type": "stream",
     "text": [
      "Translation error: sequence item 1: expected str instance, NoneType found\n"
     ]
    },
    {
     "name": "stderr",
     "output_type": "stream",
     "text": [
      "Processing reviews:  98%|█████████▊| 6704/6823 [00:07<00:00, 1518.93it/s]"
     ]
    },
    {
     "name": "stdout",
     "output_type": "stream",
     "text": [
      "Translation error: sequence item 1: expected str instance, NoneType found\n"
     ]
    },
    {
     "name": "stderr",
     "output_type": "stream",
     "text": [
      "Processing reviews: 100%|██████████| 6823/6823 [00:07<00:00, 919.69it/s] "
     ]
    },
    {
     "name": "stdout",
     "output_type": "stream",
     "text": [
      "Translation error: sequence item 2: expected str instance, NoneType found\n",
      "0    love em love looking converses half price uniq...\n",
      "1    plastic ripped shoes cute 2nd day wearing tong...\n",
      "2                            good quality good quality\n",
      "3                                           good great\n",
      "4    perfect chose white model finish behind black ...\n",
      "Name: processed_review, dtype: object\n"
     ]
    },
    {
     "name": "stderr",
     "output_type": "stream",
     "text": [
      "\n"
     ]
    }
   ],
   "source": [
    "# 불용어 설정\n",
    "stop_words = set(stopwords.words('english'))\n",
    "\n",
    "# Google Translator 설정\n",
    "translator = Translator()\n",
    "\n",
    "# 번역 캐시 파일 경로\n",
    "cache_file = './translation_cache.pkl'\n",
    "\n",
    "# 번역 캐시 로드 또는 초기화\n",
    "if os.path.exists(cache_file):\n",
    "    with open(cache_file, 'rb') as f:\n",
    "        translation_cache = pickle.load(f)\n",
    "else:\n",
    "    translation_cache = {}\n",
    "\n",
    "# 텍스트 해시 함수\n",
    "def text_hash(text):\n",
    "    return hashlib.md5(text.encode()).hexdigest()\n",
    "\n",
    "# 통합된 전처리 함수\n",
    "def preprocess_and_translate(row):\n",
    "    # 번역 함수 (캐시 사용 및 딜레이 추가)\n",
    "    def translate_to_english(text):\n",
    "        if not isinstance(text, str):\n",
    "            text = ''\n",
    "        text_key = text_hash(text)\n",
    "        if text_key in translation_cache:\n",
    "            return translation_cache[text_key]\n",
    "        else:\n",
    "            try:\n",
    "                detected_lang = translator.detect(text).lang\n",
    "                print(f\"Detected language: {detected_lang}\")\n",
    "                translated = translator.translate(text, src=detected_lang, dest='en').text\n",
    "                translation_cache[text_key] = translated\n",
    "                # 딜레이 추가\n",
    "                time.sleep(2)\n",
    "                return translated\n",
    "            except Exception as e:\n",
    "                print(f\"Translation error: {e}\")\n",
    "                return text  # 번역 실패 시 원본 텍스트 반환\n",
    "\n",
    "    # 특수 문자 제거 함수\n",
    "    def remove_special_characters(text):\n",
    "        return re.sub(r'[^a-zA-Z0-9\\s]', '', text)\n",
    "\n",
    "    # 텍스트 전처리 함수 (불용어 제거 포함)\n",
    "    def preprocess_text(text):\n",
    "        text = text.lower()  # 소문자 변환\n",
    "        text = re.sub(r'\\s+', ' ', text).strip()  # 여러 공백을 하나의 공백으로 변환하고 양쪽 공백 제거\n",
    "        tokens = word_tokenize(text)\n",
    "        filtered_tokens = [word for word in tokens if word not in stop_words]\n",
    "        return ' '.join(filtered_tokens)\n",
    "\n",
    "    # 제목과 본문 통합\n",
    "    title = row['review_title'] if pd.notna(row['review_title']) else ''\n",
    "    review = row['review_text'] if pd.notna(row['review_text']) else ''\n",
    "    combined = title + ' ' + review if title and review else title or review\n",
    "\n",
    "    # 번역\n",
    "    translated_text = translate_to_english(combined)\n",
    "    \n",
    "    # 특수 문자 제거 및 전처리\n",
    "    translated_text = remove_special_characters(translated_text)\n",
    "    cleaned_text = preprocess_text(translated_text)\n",
    "    \n",
    "    return cleaned_text\n",
    "\n",
    "# 모든 리뷰 텍스트와 제목을 한 번에 전처리하고 번역 (진행 상황 표시)\n",
    "tqdm.pandas(desc=\"Processing reviews\")\n",
    "df['processed_review'] = df.progress_apply(preprocess_and_translate, axis=1)\n",
    "\n",
    "# 번역 캐시 저장\n",
    "with open(cache_file, 'wb') as f:\n",
    "    pickle.dump(translation_cache, f)\n",
    "\n",
    "# 전처리된 리뷰 텍스트 확인\n",
    "print(df['processed_review'].head())\n",
    "\n",
    "# 필요한 컬럼만 선택하여 저장\n",
    "output_file_path = './processed_reviews.csv'\n",
    "df[['processed_review']].to_csv(output_file_path, index=False)"
   ]
  },
  {
   "cell_type": "markdown",
   "metadata": {},
   "source": [
    "### (2) 스테밍 및 표제어 추출"
   ]
  },
  {
   "cell_type": "code",
   "execution_count": 7,
   "metadata": {},
   "outputs": [
    {
     "name": "stdout",
     "output_type": "stream",
     "text": [
      "0    love em love look convers half price uniqu ive...\n",
      "1    plastic rip shoe cute 2nd day wear tongu start...\n",
      "2                            good qualiti good qualiti\n",
      "3                                           good great\n",
      "4    perfect chose white model finish behind black ...\n",
      "Name: processed_review, dtype: object\n"
     ]
    }
   ],
   "source": [
    "# 전처리된 데이터 불러오기\n",
    "df = pd.read_csv('./processed_reviews.csv')\n",
    "\n",
    "# 데이터 타입 변환 및 NaN 값 처리\n",
    "df['processed_review'] = df['processed_review'].astype(str).fillna('')\n",
    "\n",
    "# 스테머 및 표제어 추출기 초기화\n",
    "ps = PorterStemmer()\n",
    "lemmatizer = WordNetLemmatizer()\n",
    "\n",
    "# 스테밍 및 표제어 추출 함수\n",
    "def stem_and_lemmatize(text):\n",
    "    tokens = word_tokenize(text)\n",
    "    stemmed_tokens = [ps.stem(word) for word in tokens]\n",
    "    lemmatized_tokens = [lemmatizer.lemmatize(word) for word in stemmed_tokens]\n",
    "    return ' '.join(lemmatized_tokens)\n",
    "\n",
    "# 스테밍 및 표제어 추출 적용\n",
    "df['processed_review'] = df['processed_review'].apply(stem_and_lemmatize)\n",
    "\n",
    "# 결과 확인\n",
    "print(df['processed_review'].head())"
   ]
  },
  {
   "cell_type": "markdown",
   "metadata": {},
   "source": [
    "# 2. 모델 구현\n",
    "\n",
    "수업시간에 이용한 varder을 사용하여 모델을 구현\n",
    "\n",
    "위에서 기술했듯 평점을 가중치로 넣거나 '이 평가가 도움이 됨'같은 항목을 가중치로 넣으려 했으나\n",
    "\n",
    "편향이 너무 크게 생길 수 있기에 우선은 배제하고 순수하게 varder모델에서 텍스트만으로 시행"
   ]
  },
  {
   "cell_type": "code",
   "execution_count": 8,
   "metadata": {},
   "outputs": [],
   "source": [
    "sid = SentimentIntensityAnalyzer()\n",
    "\n",
    "def analyze_sentiment(text):\n",
    "    scores = sid.polarity_scores(text)\n",
    "    return scores['compound']\n",
    "\n",
    "df['sentiment_score'] = df['processed_review'].apply(analyze_sentiment)\n",
    "\n",
    "# 감성 레이블 설정\n",
    "df['sentiment_label'] = df['sentiment_score'].apply(lambda x: 1 if x >= 0 else 0)"
   ]
  },
  {
   "cell_type": "code",
   "execution_count": 9,
   "metadata": {},
   "outputs": [],
   "source": [
    "# 필요한 컬럼만 선택하여 저장\n",
    "output_file_path = './sentiment_analysis_results.csv'\n",
    "df[['processed_review', 'sentiment_score', 'sentiment_label']].to_csv(output_file_path, index=False)"
   ]
  },
  {
   "cell_type": "markdown",
   "metadata": {},
   "source": [
    "모델을 통하여 감성분석 점수 데이터 프레임 컬럼을 기입"
   ]
  },
  {
   "cell_type": "markdown",
   "metadata": {},
   "source": [
    "# 3. 모델학습 및 튜닝"
   ]
  },
  {
   "cell_type": "code",
   "execution_count": 12,
   "metadata": {},
   "outputs": [],
   "source": [
    "# 데이터셋 분할\n",
    "X = df['processed_review']\n",
    "y = df['sentiment_label']\n",
    "X_train, X_test, y_train, y_test = train_test_split(X, y, test_size=0.2, random_state=42)\n",
    "\n",
    "# TF-IDF Vectorizer\n",
    "tfidf = TfidfVectorizer(max_features=5000)\n",
    "X_train_tfidf = tfidf.fit_transform(X_train)\n",
    "X_test_tfidf = tfidf.transform(X_test)\n",
    "\n",
    "# 로지스틱 회귀 모델\n",
    "model = LogisticRegression()\n",
    "model.fit(X_train_tfidf, y_train)\n",
    "\n",
    "# 예측\n",
    "y_pred = model.predict(X_test_tfidf)"
   ]
  },
  {
   "cell_type": "markdown",
   "metadata": {},
   "source": [
    "그리드 서치 방법을 통해 최적의 하이퍼 파라미터를 구하여 모델을 학습"
   ]
  },
  {
   "cell_type": "code",
   "execution_count": 13,
   "metadata": {},
   "outputs": [
    {
     "name": "stdout",
     "output_type": "stream",
     "text": [
      "processed_review    7\n",
      "sentiment_score     0\n",
      "sentiment_label     0\n",
      "dtype: int64\n",
      "Best Hyperparameters: {'C': 10, 'penalty': 'l1', 'solver': 'liblinear'}\n",
      "Best Score: 0.9535946316400239\n",
      "Accuracy: 0.9420821114369502\n",
      "Precision: 0.9561815336463224\n",
      "Recall: 0.9815261044176706\n",
      "F1 Score: 0.9686880697582243\n"
     ]
    }
   ],
   "source": [
    "df=pd.read_csv('./sentiment_analysis_results.csv')\n",
    "\n",
    "# `NaN` 값 확인\n",
    "print(df.isnull().sum())\n",
    "\n",
    "# `NaN` 값 제거\n",
    "df = df.dropna(subset=['processed_review', 'sentiment_label'])\n",
    "\n",
    "# 데이터셋 분할\n",
    "X = df['processed_review']\n",
    "y = df['sentiment_label']\n",
    "X_train, X_test, y_train, y_test = train_test_split(X, y, test_size=0.2, random_state=42)\n",
    "\n",
    "# TF-IDF Vectorizer\n",
    "tfidf = TfidfVectorizer(max_features=5000)\n",
    "X_train_tfidf = tfidf.fit_transform(X_train)\n",
    "X_test_tfidf = tfidf.transform(X_test)\n",
    "\n",
    "# 하이퍼파라미터 그리드 정의\n",
    "param_grid = {\n",
    "    'C': [0.1, 1, 10, 100],\n",
    "    'penalty': ['l1', 'l2'],\n",
    "    'solver': ['liblinear']\n",
    "}\n",
    "\n",
    "# GridSearchCV 객체 생성\n",
    "grid_search = GridSearchCV(LogisticRegression(), param_grid, cv=5, scoring='accuracy')\n",
    "\n",
    "# 모델 학습\n",
    "grid_search.fit(X_train_tfidf, y_train)\n",
    "\n",
    "# 최적의 하이퍼파라미터 출력\n",
    "print(\"Best Hyperparameters:\", grid_search.best_params_)\n",
    "print(\"Best Score:\", grid_search.best_score_)\n",
    "\n",
    "# 최적의 하이퍼파라미터로 모델 예측\n",
    "best_model = grid_search.best_estimator_\n",
    "y_pred = best_model.predict(X_test_tfidf)\n",
    "\n",
    "# 평가\n",
    "accuracy = accuracy_score(y_test, y_pred)\n",
    "precision = precision_score(y_test, y_pred)\n",
    "recall = recall_score(y_test, y_pred)\n",
    "f1 = f1_score(y_test, y_pred)\n",
    "\n",
    "print(f'Accuracy: {accuracy}')\n",
    "print(f'Precision: {precision}')\n",
    "print(f'Recall: {recall}')\n",
    "print(f'F1 Score: {f1}')"
   ]
  },
  {
   "cell_type": "markdown",
   "metadata": {},
   "source": [
    "# 4. 모델평가 및 시각화, 보고\n",
    "\n",
    "학습된 모델이 어느정도의 정확도를 가지고 있는지 정밀도, 정확도, 재현율, f1을 수치 데이터로,\n",
    "\n",
    "혼동 행렬을 히트맵으로 표시하였으며,\n",
    "\n",
    "ROC 커브를 통해 오차에 대한 측정을 시각화로 표현"
   ]
  },
  {
   "cell_type": "markdown",
   "metadata": {},
   "source": [
    "### (1) 오버피팅에 대한 여부"
   ]
  },
  {
   "cell_type": "code",
   "execution_count": 14,
   "metadata": {},
   "outputs": [
    {
     "name": "stdout",
     "output_type": "stream",
     "text": [
      "Train Accuracy: 0.9416727806309612\n",
      "Train Precision: 0.9410774410774411\n",
      "Train Recall: 0.9994040524433849\n",
      "Train F1 Score: 0.969364161849711\n",
      "Test Accuracy: 0.9420821114369502\n",
      "Test Precision: 0.9561815336463224\n",
      "Test Recall: 0.9815261044176706\n",
      "Test F1 Score: 0.9686880697582243\n"
     ]
    }
   ],
   "source": [
    "# 학습 데이터에서 예측\n",
    "y_train_pred = model.predict(X_train_tfidf)\n",
    "\n",
    "# 학습 데이터 성능 평가\n",
    "train_accuracy = accuracy_score(y_train, y_train_pred)\n",
    "train_precision = precision_score(y_train, y_train_pred)\n",
    "train_recall = recall_score(y_train, y_train_pred)\n",
    "train_f1 = f1_score(y_train, y_train_pred)\n",
    "\n",
    "print(f'Train Accuracy: {train_accuracy}')\n",
    "print(f'Train Precision: {train_precision}')\n",
    "print(f'Train Recall: {train_recall}')\n",
    "print(f'Train F1 Score: {train_f1}')\n",
    "\n",
    "# 테스트 데이터 성능 평가\n",
    "test_accuracy = accuracy_score(y_test, y_pred)\n",
    "test_precision = precision_score(y_test, y_pred)\n",
    "test_recall = recall_score(y_test, y_pred)\n",
    "test_f1 = f1_score(y_test, y_pred)\n",
    "\n",
    "print(f'Test Accuracy: {test_accuracy}')\n",
    "print(f'Test Precision: {test_precision}')\n",
    "print(f'Test Recall: {test_recall}')\n",
    "print(f'Test F1 Score: {test_f1}')"
   ]
  },
  {
   "cell_type": "markdown",
   "metadata": {},
   "source": [
    "해당 자료를 보면 모든 자료에 대한 일반화는 잘 나타나는 모습을 보이고 있음 \n",
    "\n",
    "트레인데이터와 테스트데이터간의 유의미한 차이가 관측되지 않음"
   ]
  },
  {
   "cell_type": "code",
   "execution_count": 15,
   "metadata": {},
   "outputs": [
    {
     "name": "stdout",
     "output_type": "stream",
     "text": [
      "Accuracy: 0.9420821114369502\n",
      "Precision: 0.9561815336463224\n",
      "Recall: 0.9815261044176706\n",
      "F1 Score: 0.9686880697582243\n",
      "ROC-AUC: 0.7554689345617766\n"
     ]
    },
    {
     "data": {
      "image/png": "[encoded data removed]",
      "text/plain": [
       "<Figure size 1200x500 with 3 Axes>"
      ]
     },
     "metadata": {},
     "output_type": "display_data"
    }
   ],
   "source": [
    "# 평가 지표 계산\n",
    "accuracy = accuracy_score(y_test, y_pred)\n",
    "precision = precision_score(y_test, y_pred)\n",
    "recall = recall_score(y_test, y_pred)\n",
    "f1 = f1_score(y_test, y_pred)\n",
    "roc_auc = roc_auc_score(y_test, y_pred)\n",
    "\n",
    "print(f'Accuracy: {accuracy}')\n",
    "print(f'Precision: {precision}')\n",
    "print(f'Recall: {recall}')\n",
    "print(f'F1 Score: {f1}')\n",
    "print(f'ROC-AUC: {roc_auc}')\n",
    "\n",
    "# 혼동 행렬 및 ROC 곡선\n",
    "conf_matrix = confusion_matrix(y_test, y_pred)\n",
    "fpr, tpr, _ = roc_curve(y_test, y_pred)\n",
    "\n",
    "plt.figure(figsize=(12, 5))\n",
    "\n",
    "plt.subplot(1, 2, 1)\n",
    "sns.heatmap(conf_matrix, annot=True, fmt='d', cmap='Blues')\n",
    "plt.title('Confusion Matrix')\n",
    "\n",
    "plt.subplot(1, 2, 2)\n",
    "plt.plot(fpr, tpr, marker='.')\n",
    "plt.plot([0, 1], [0, 1], linestyle='--')\n",
    "plt.title('ROC Curve')\n",
    "\n",
    "plt.show()"
   ]
  },
  {
   "cell_type": "markdown",
   "metadata": {},
   "source": [
    "True Positives (TP): 실제 긍정적 샘플 중 모델이 올바르게 예측한 수 (1250)\n",
    "\n",
    "True Negatives (TN): 실제 부정적 샘플 중 모델이 올바르게 예측한 수 (25)\n",
    "\n",
    "False Positives (FP): 실제 부정적 샘플 중 모델이 잘못 예측한 수 (88)\n",
    "\n",
    "False Negatives (FN): 실제 긍정적 샘플 중 모델이 잘못 예측한 수 (2)\n",
    "\n",
    "현재 위의 수치만 보면 문제점이 당장은 없어 보인다. 하지만 ROC 모양이 기형적이기에\n",
    "\n",
    "어디서 문제인지 확인 중 모델 예측 분포를 검사"
   ]
  },
  {
   "cell_type": "code",
   "execution_count": 16,
   "metadata": {},
   "outputs": [
    {
     "name": "stdout",
     "output_type": "stream",
     "text": [
      "1    1278\n",
      "0      86\n",
      "Name: count, dtype: int64\n"
     ]
    },
    {
     "data": {
      "image/png": "[encoded data removed]",
      "text/plain": [
       "<Figure size 600x400 with 1 Axes>"
      ]
     },
     "metadata": {},
     "output_type": "display_data"
    }
   ],
   "source": [
    "#모델 예측 분포 검사\n",
    "pred_counts = pd.Series(y_pred).value_counts()\n",
    "print(pred_counts)\n",
    "\n",
    "# 시각화\n",
    "plt.figure(figsize=(6, 4))\n",
    "sns.barplot(x=pred_counts.index, y=pred_counts.values)\n",
    "plt.title('Prediction Distribution')\n",
    "plt.xlabel('Prediction')\n",
    "plt.ylabel('Frequency')\n",
    "plt.show()"
   ]
  },
  {
   "cell_type": "markdown",
   "metadata": {},
   "source": [
    "보시다시피 부정보다 긍정으로 평가한 경우가 매우 많다. 이는 데이터가 긍정적인 표본에 과도하게 편향되어 있음을 보여줌\n",
    "\n",
    "즉 특정 표본으로 인한 오버피팅이 발생\n",
    "\n",
    "따라서 오버샘플링으로 부정적인 표본들을 늘이는 방식 제시 "
   ]
  },
  {
   "cell_type": "code",
   "execution_count": 26,
   "metadata": {},
   "outputs": [
    {
     "name": "stdout",
     "output_type": "stream",
     "text": [
      "Accuracy: 0.9340175953079178\n",
      "Precision: 0.9586973788721207\n",
      "Recall: 0.9694779116465864\n",
      "F1 Score: 0.9640575079872205\n",
      "ROC-AUC: 0.76625156086531\n"
     ]
    },
    {
     "data": {
      "image/png": "[encoded data removed]",
      "text/plain": [
       "<Figure size 1200x500 with 3 Axes>"
      ]
     },
     "metadata": {},
     "output_type": "display_data"
    },
    {
     "data": {
      "image/png": "[encoded data removed]",
      "text/plain": [
       "<Figure size 600x400 with 1 Axes>"
      ]
     },
     "metadata": {},
     "output_type": "display_data"
    }
   ],
   "source": [
    "# 오버샘플링 비율 설정\n",
    "sampling_strategy = 0.5  # 소수 클래스의 샘플 수가 다수 클래스의 50%가 되도록 설정\n",
    "\n",
    "# 오버샘플링\n",
    "smote = SMOTE(sampling_strategy=sampling_strategy, random_state=42)\n",
    "X_train_resampled, y_train_resampled = smote.fit_resample(X_train_tfidf, y_train)\n",
    "\n",
    "# 모델 재학습\n",
    "model.fit(X_train_resampled, y_train_resampled)\n",
    "\n",
    "# 예측\n",
    "y_pred_resampled = model.predict(X_test_tfidf)\n",
    "\n",
    "# 평가\n",
    "accuracy = accuracy_score(y_test, y_pred_resampled)\n",
    "precision = precision_score(y_test, y_pred_resampled)\n",
    "recall = recall_score(y_test, y_pred_resampled)\n",
    "f1 = f1_score(y_test, y_pred_resampled)\n",
    "roc_auc = roc_auc_score(y_test, y_pred_resampled)\n",
    "\n",
    "print(f'Accuracy: {accuracy}')\n",
    "print(f'Precision: {precision}')\n",
    "print(f'Recall: {recall}')\n",
    "print(f'F1 Score: {f1}')\n",
    "print(f'ROC-AUC: {roc_auc}')\n",
    "\n",
    "# 혼동 행렬 및 ROC 곡선\n",
    "conf_matrix = confusion_matrix(y_test, y_pred_resampled)\n",
    "fpr, tpr, _ = roc_curve(y_test, y_pred_resampled)\n",
    "\n",
    "plt.figure(figsize=(12, 5))\n",
    "\n",
    "plt.subplot(1, 2, 1)\n",
    "sns.heatmap(conf_matrix, annot=True, fmt='d', cmap='Blues')\n",
    "plt.title('Confusion Matrix')\n",
    "\n",
    "plt.subplot(1, 2, 2)\n",
    "plt.plot(fpr, tpr, marker='.')\n",
    "plt.plot([0, 1], [0, 1], linestyle='--')\n",
    "plt.title('ROC Curve')\n",
    "\n",
    "plt.show()\n",
    "\n",
    "# 예측 분포 확인\n",
    "pred_counts_resampled = pd.Series(y_pred_resampled).value_counts()\n",
    "plt.figure(figsize=(6, 4))\n",
    "sns.barplot(x=pred_counts_resampled.index, y=pred_counts_resampled.values)\n",
    "plt.title('Prediction Distribution after Resampling')\n",
    "plt.xlabel('Prediction')\n",
    "plt.ylabel('Frequency')\n",
    "plt.show()"
   ]
  },
  {
   "cell_type": "markdown",
   "metadata": {},
   "source": [
    "오버 샘플링으로 부정적인 표본에 대한 비율을 높였음\n",
    "\n",
    "이로 인해 기존의 그래프보다 좌측 상단에 가까워진 모습을 보이며 AUC의 면적이 확대됨\n",
    "\n",
    "하지만 여전히 직선에다가 이상적인 모델이라고 보기에는 문제가 있으며 이에 대한 고찰 또한 필요함"
   ]
  },
  {
   "cell_type": "markdown",
   "metadata": {},
   "source": [
    "* 오버샘플링 이전\n",
    "\n",
    "Accuracy: 0.9340659340659341\n",
    "\n",
    "Precision: 0.9342301943198804\n",
    "\n",
    "Recall: 0.9984025559105432\n",
    "\n",
    "F1 Score: 0.9652509652509652\n",
    "\n",
    "ROC-AUC: 0.6098207469818202\n",
    "\n",
    "* 오버샘플링 이후\n",
    "\n",
    "Accuracy: 0.9296703296703297\n",
    "\n",
    "Precision: 0.9745484400656814\n",
    "\n",
    "Recall: 0.9480830670926518\n",
    "\n",
    "F1 Score: 0.9611336032388664\n",
    "\n",
    "ROC-AUC: 0.8368733919534055\n",
    "\n",
    "= 해당 지표를 비교해보면 Accuracy, F1 score는 큰 차이가 없으나 precision은 0.04 상향, Recall은 0.03으로 하향되었는데\n",
    "\n",
    "= 이는 오버피팅이 되어 있음을 보여주는 현상이며 ROC의 면적은 0.23이상 차이나며 오버샘플링이 유의미한 결과를 보여주고 있음을 시사\n",
    "\n",
    "= 하지만 이상적인 모델이라고 보기에는 아직 개선의 여지가 있으며 이에 대한 고찰 또한 필요함"
   ]
  }
 ],
 "metadata": {
  "kernelspec": {
   "display_name": "Python 3",
   "language": "python",
   "name": "python3"
  },
  "language_info": {
   "codemirror_mode": {
    "name": "ipython",
    "version": 3
   },
   "file_extension": ".py",
   "mimetype": "text/x-python",
   "name": "python",
   "nbconvert_exporter": "python",
   "pygments_lexer": "ipython3",
   "version": "3.12.1"
  }
 },
 "nbformat": 4,
 "nbformat_minor": 2
}
